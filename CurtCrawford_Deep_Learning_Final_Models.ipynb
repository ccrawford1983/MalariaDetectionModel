{
  "nbformat": 4,
  "nbformat_minor": 0,
  "metadata": {
    "colab": {
      "provenance": [],
      "machine_shape": "hm",
      "collapsed_sections": [
        "HDM89XHyCxrA",
        "UC8-yLUUCcWh",
        "nCqJk2XpCnJi",
        "LLxDDjawqFEU",
        "H3tv0TqisAXr",
        "vtayck2-Pm3G",
        "qTMSr0Xw6x3b",
        "G4_ZzqDp8T5w",
        "fmwb4h0h64Km",
        "Zh3DZOtf5lNo",
        "4Sh0OGP268Qm",
        "MizqfIXGEAFQ",
        "rpso5KhIEAFR",
        "MG7ZRPOjPvGY",
        "XQYotkNRK1NL",
        "8BYkL0DMK1NN",
        "uIbsz5mvK1NP",
        "Ahb6tvsDiDbZ",
        "C2J_nDcUBPzq"
      ],
      "include_colab_link": true
    },
    "kernelspec": {
      "display_name": "Python 3",
      "name": "python3"
    },
    "language_info": {
      "name": "python"
    },
    "accelerator": "GPU",
    "gpuClass": "standard"
  },
  "cells": [
    {
      "cell_type": "markdown",
      "metadata": {
        "id": "view-in-github",
        "colab_type": "text"
      },
      "source": [
        "<a href=\"https://colab.research.google.com/github/ccrawford1983/MalariaDetectionModel/blob/main/CurtCrawford_Deep_Learning_Final_Models.ipynb\" target=\"_parent\"><img src=\"https://colab.research.google.com/assets/colab-badge.svg\" alt=\"Open In Colab\"/></a>"
      ]
    },
    {
      "cell_type": "markdown",
      "metadata": {
        "id": "vGsTRO4XBWKn"
      },
      "source": [
        "#<b>Final Models\n",
        "####<b>Summary\n",
        "#####This Workbook contains the code for the Final Models (Model 1 and Model 3). We are happy to provide any and all code and results from testing waves 1-3 as well as the pre-trained model testing upon request.\n",
        "####<b>Recommendation:\n",
        "#####Our recommended solution depends on the circumstances:\n",
        "#####-In areas where computing resources are plentiful, employ Model 1. \n",
        "#####-However, when computing resources are limited, consider utilizing Model 3 (with Gaussian Blurring pre-processing) to lessen the computational load while maintaining strong performance.\n",
        "\n",
        "\n",
        "####<b>CNN Models\n",
        "#####Model 1: 4 Convolutional Layers, filters = 128 (All Layers), Conv Layer Dropout(0.2), kernel_size = 2, Output Layer Dropout(0.6)\n",
        "#####Model 3: 5 Convolutional Layers, filters = 64/64/64/64/32, kernel_size = 2, Conv Layer Dropout(0.3), Output Layer Dropout(0.4), Data Augmentation = Gaussian Blurring (Preprocessing)\n",
        "\n",
        "####<b>Constants: \n",
        "#####Kernel size = 2 for all convolutional layers\n",
        "#####Max Pooling for all convolutional layers\n",
        "#####ReLU Activation for all Convolutional Layers\n",
        "#####1 Fully Connected Layer (512 Neurons) w ReLU Activation\n",
        "#####Output Layer (2 Neurons) w Softmax Activation"
      ]
    },
    {
      "cell_type": "markdown",
      "metadata": {
        "id": "HDM89XHyCxrA"
      },
      "source": [
        "###<b> Mounting the Drive"
      ]
    },
    {
      "cell_type": "code",
      "source": [
        "# Mounting the drive\n",
        "from google.colab import drive\n",
        "\n",
        "drive.mount('/content/drive')"
      ],
      "metadata": {
        "id": "qMFmg856411h",
        "colab": {
          "base_uri": "https://localhost:8080/"
        },
        "outputId": "c5195526-415c-437b-92c2-8fe5c82e2e90"
      },
      "execution_count": null,
      "outputs": [
        {
          "output_type": "stream",
          "name": "stdout",
          "text": [
            "Drive already mounted at /content/drive; to attempt to forcibly remount, call drive.mount(\"/content/drive\", force_remount=True).\n"
          ]
        }
      ]
    },
    {
      "cell_type": "markdown",
      "metadata": {
        "id": "UC8-yLUUCcWh"
      },
      "source": [
        "###<b>Loading libraries</b>"
      ]
    },
    {
      "cell_type": "code",
      "metadata": {
        "id": "qprkPYi_AmMT"
      },
      "source": [
        "# Importing libraries required to load the data\n",
        "import zipfile\n",
        "\n",
        "import os\n",
        "\n",
        "from PIL import Image\n",
        "\n",
        "import numpy as np\n",
        "\n",
        "import pandas as pd\n",
        "\n",
        "import matplotlib.pyplot as plt\n",
        "\n",
        "import seaborn as sns\n",
        "\n",
        "from sklearn.model_selection import train_test_split\n",
        "\n",
        "from sklearn.preprocessing import MinMaxScaler\n",
        "\n",
        "import tensorflow as tf\n",
        "\n",
        "from tensorflow.keras import optimizers\n",
        "\n",
        "# Install albumentations for image augmentation\n",
        "# !pip install albumentations\n",
        "import albumentations\n",
        "\n",
        "# To ignore warnings\n",
        "import warnings\n",
        "\n",
        "warnings.filterwarnings('ignore')\n",
        "\n",
        "# Remove the limit from the number of displayed columns and rows. It helps to see the entire dataframe while printing it\n",
        "pd.set_option(\"display.max_columns\", None)\n",
        "\n",
        "pd.set_option(\"display.max_rows\", 200)"
      ],
      "execution_count": null,
      "outputs": []
    },
    {
      "cell_type": "markdown",
      "metadata": {
        "id": "nCqJk2XpCnJi"
      },
      "source": [
        "### <b>Let us load the data</b>"
      ]
    },
    {
      "cell_type": "markdown",
      "metadata": {
        "id": "_syvBdMlDTsr"
      },
      "source": [
        "**Note:** \n",
        "- You must download the dataset from the link provided on Olympus and upload the same on your Google drive before executing the code in the next cell.\n",
        "- In case of any error, please make sure that the path of the file is correct as the path may be different for you."
      ]
    },
    {
      "cell_type": "code",
      "source": [
        "# Storing the path of the data file from the Google drive\n",
        "path = '/content/drive/MyDrive/cell_images.zip'\n",
        "\n",
        "# The data is provided as a zip file so we need to extract the files from the zip file\n",
        "with zipfile.ZipFile(path, 'r') as zip_ref:\n",
        "\n",
        "    zip_ref.extractall()"
      ],
      "metadata": {
        "id": "_pbRbKrN45sB"
      },
      "execution_count": null,
      "outputs": []
    },
    {
      "cell_type": "markdown",
      "metadata": {
        "id": "7-HLt-uoF0dF"
      },
      "source": [
        "The files have been extracted to the local session of Google Colab. The extracted folder would have the following structure:\n",
        "\n",
        "![Folder_Structure.PNG](data:image/png;base64,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)"
      ]
    },
    {
      "cell_type": "markdown",
      "metadata": {
        "id": "IW3fDq7gF4Hw"
      },
      "source": [
        "The extracted folder has different folders for train and test data which further contains the different sizes of images for parasitized and uninfected cells within the respective folder name. \n",
        "\n",
        "The size of all images must be the same and should be converted to 4D arrays so that they can be used as an input for the convolutional neural network. Also, we need to create the labels for both types of images to be able to train and test the model. \n",
        "\n",
        "Let's do the same for the training data first and then we will use the same code for the test data as well."
      ]
    },
    {
      "cell_type": "code",
      "metadata": {
        "id": "SjK02uF1DXdW"
      },
      "source": [
        "# Storing the path of the extracted \"train\" folder \n",
        "train_dir = '/content/cell_images/train'\n",
        "\n",
        "# Size of image so that each image has the same size\n",
        "SIZE = 64\n",
        "\n",
        "# Empty list to store the training images after they are converted to NumPy arrays\n",
        "train_images = []\n",
        "\n",
        "# Empty list to store the training labels (0 - uninfected, 1 - parasitized)\n",
        "train_labels = []"
      ],
      "execution_count": null,
      "outputs": []
    },
    {
      "cell_type": "code",
      "metadata": {
        "id": "2JNY4tSvDXgn"
      },
      "source": [
        "# We will run the same code for \"parasitized\" as well as \"uninfected\" folders within the \"train\" folder\n",
        "for folder_name in ['/parasitized/', '/uninfected/']:\n",
        "    \n",
        "    # Path of the folder\n",
        "    images_path = os.listdir(train_dir + folder_name)\n",
        "\n",
        "    for i, image_name in enumerate(images_path):\n",
        "    \n",
        "        try:\n",
        "    \n",
        "            # Opening each image using the path of that image\n",
        "            image = Image.open(train_dir + folder_name + image_name)\n",
        "\n",
        "            # Resizing each image to (64, 64)\n",
        "            image = image.resize((SIZE, SIZE))\n",
        "\n",
        "            # Converting images to arrays and appending that array to the empty list defined above\n",
        "            train_images.append(np.array(image))\n",
        "\n",
        "            # Creating labels for parasitized and uninfected images\n",
        "            if folder_name == '/parasitized/':\n",
        "                \n",
        "                train_labels.append(1)\n",
        "            \n",
        "            else:\n",
        "            \n",
        "                train_labels.append(0)\n",
        "        \n",
        "        except Exception:\n",
        "        \n",
        "            pass       \n",
        "\n",
        "# Converting lists to arrays\n",
        "train_images = np.array(train_images)\n",
        "\n",
        "train_labels = np.array(train_labels)"
      ],
      "execution_count": null,
      "outputs": []
    },
    {
      "cell_type": "code",
      "metadata": {
        "id": "DfwXIsK_DXiv"
      },
      "source": [
        "# Storing the path of the extracted \"test\" folder \n",
        "test_dir = '/content/cell_images/test'\n",
        "\n",
        "# Size of image so that each image has the same size (it must be same as the train image size)\n",
        "SIZE = 64\n",
        "\n",
        "# Empty list to store the testing images after they are converted to NumPy arrays\n",
        "test_images = []\n",
        "\n",
        "# Empty list to store the testing labels (0 - uninfected, 1 - parasitized)\n",
        "test_labels = []"
      ],
      "execution_count": null,
      "outputs": []
    },
    {
      "cell_type": "code",
      "metadata": {
        "id": "My6pm3AFDXk9"
      },
      "source": [
        "# We will run the same code for \"parasitized\" as well as \"uninfected\" folders within the \"test\" folder\n",
        "for folder_name in ['/parasitized/', '/uninfected/']:\n",
        "    \n",
        "    # Path of the folder\n",
        "    images_path = os.listdir(test_dir + folder_name)\n",
        "\n",
        "    for i, image_name in enumerate(images_path):\n",
        "     \n",
        "        try:\n",
        "            # Opening each image using the path of that image\n",
        "            image = Image.open(test_dir + folder_name + image_name)\n",
        "            \n",
        "            # Resizing each image to (64, 64)\n",
        "            image = image.resize((SIZE, SIZE))\n",
        "            \n",
        "            # Converting images to arrays and appending that array to the empty list defined above\n",
        "            test_images.append(np.array(image))\n",
        "            \n",
        "            # Creating labels for parasitized and uninfected images\n",
        "            if folder_name == '/parasitized/':\n",
        "                \n",
        "                test_labels.append(1)\n",
        "            \n",
        "            else:\n",
        "            \n",
        "                test_labels.append(0)\n",
        "        \n",
        "        except Exception:\n",
        "        \n",
        "            pass       \n",
        "\n",
        "# Converting lists to arrays\n",
        "test_images = np.array(test_images)\n",
        "\n",
        "test_labels = np.array(test_labels)"
      ],
      "execution_count": null,
      "outputs": []
    },
    {
      "cell_type": "code",
      "source": [],
      "metadata": {
        "id": "acz6d34SsACG"
      },
      "execution_count": null,
      "outputs": []
    },
    {
      "cell_type": "markdown",
      "source": [
        "###<b>Image Preprocessing\n",
        "####<b>Create Gaussian Blurring versions of images"
      ],
      "metadata": {
        "id": "LLxDDjawqFEU"
      }
    },
    {
      "cell_type": "code",
      "source": [
        "import cv2\n",
        "gb_train_images=[] # to hold Gaussian Blurring-converted images\n",
        "gb_test_images=[] # to hold Gaussian Blurring-converted images"
      ],
      "metadata": {
        "id": "XgO5_VdKqCjJ"
      },
      "execution_count": null,
      "outputs": []
    },
    {
      "cell_type": "code",
      "source": [
        "for i in np.arange(0, len(train_images), 1):\n",
        "\n",
        "  b = cv2.GaussianBlur(train_images[i], (5, 5), 0)\n",
        "  \n",
        "  gb_train_images.append(b)\n",
        "\n",
        "gb_train_images = np.array(gb_train_images)"
      ],
      "metadata": {
        "id": "isysj-IWtiRv"
      },
      "execution_count": null,
      "outputs": []
    },
    {
      "cell_type": "code",
      "source": [
        "for i in np.arange(0, len(test_images), 1):\n",
        "\n",
        "  b = cv2.GaussianBlur(test_images[i], (5, 5), 0)\n",
        "  \n",
        "  gb_test_images.append(b)\n",
        "\n",
        "gb_test_images = np.array(gb_test_images)"
      ],
      "metadata": {
        "id": "r0J8z4O-tiDc"
      },
      "execution_count": null,
      "outputs": []
    },
    {
      "cell_type": "markdown",
      "metadata": {
        "id": "H3tv0TqisAXr"
      },
      "source": [
        "###<b>Normalize the images"
      ]
    },
    {
      "cell_type": "code",
      "metadata": {
        "id": "OCIIC6A3sAXr"
      },
      "source": [
        "# Try to normalize the train and test images by dividing it by 255 and convert them to float32 using astype function\n",
        "\n",
        "train_images = (train_images/255).astype('float32')\n",
        "test_images = (test_images/255).astype('float32')\n",
        "\n",
        "gb_train_images = (gb_train_images/255).astype('float32')\n",
        "gb_test_images = (gb_test_images/255).astype('float32')"
      ],
      "execution_count": null,
      "outputs": []
    },
    {
      "cell_type": "markdown",
      "metadata": {
        "id": "9txGUBdSNT7J"
      },
      "source": [
        "As we have done our preprocessing required and performed some EDA to gain some insights in our Milestone-1 so now we will try to build our model and try evaluating its performance."
      ]
    },
    {
      "cell_type": "markdown",
      "metadata": {
        "id": "vtayck2-Pm3G"
      },
      "source": [
        "###<B>One Hot Encoding on the train and test labels"
      ]
    },
    {
      "cell_type": "code",
      "metadata": {
        "id": "xDWl6dVtOMom"
      },
      "source": [
        "from tensorflow.keras.utils import to_categorical\n",
        "\n",
        "# Encoding Train Labels\n",
        "train_labels = to_categorical(train_labels, 2)\n",
        "\n",
        "# Similarly let us try to encode test labels\n",
        "test_labels = to_categorical(test_labels, 2)"
      ],
      "execution_count": null,
      "outputs": []
    },
    {
      "cell_type": "markdown",
      "metadata": {
        "id": "qTMSr0Xw6x3b"
      },
      "source": [
        "###<b> Importing the required libraries for building and training our Model"
      ]
    },
    {
      "cell_type": "code",
      "metadata": {
        "id": "X8eWxdyDp_ZC"
      },
      "source": [
        "# Clearing backend\n",
        "from tensorflow.keras import backend\n",
        "\n",
        "from tensorflow.keras.models import Sequential, clone_model\n",
        "\n",
        "from tensorflow.keras.layers import Conv2D, MaxPooling2D, Dense, Flatten, Dropout, LeakyReLU, BatchNormalization\n",
        "\n",
        "from tensorflow.keras.callbacks import EarlyStopping, ModelCheckpoint\n",
        "\n",
        "from random import shuffle\n",
        "\n",
        "backend.clear_session()\n",
        "\n",
        "# Fixing the seed for random number generators so that we can ensure we receive the same output everytime\n",
        "np.random.seed(42)\n",
        "\n",
        "import random\n",
        "\n",
        "random.seed(42)\n",
        "\n",
        "tf.random.set_seed(42)"
      ],
      "execution_count": null,
      "outputs": []
    },
    {
      "cell_type": "markdown",
      "metadata": {
        "id": "G4_ZzqDp8T5w"
      },
      "source": [
        "### **Model 1 - 4 Convolutional Layers, filters = 128 (All Layers), kernel_size = 2, Conv Layer Dropout(0.2), Output Layer Dropout(0.6)**"
      ]
    },
    {
      "cell_type": "markdown",
      "metadata": {
        "id": "fmwb4h0h64Km"
      },
      "source": [
        "###<b> Building the model"
      ]
    },
    {
      "cell_type": "code",
      "source": [
        "model1_description = 'Model 1 - 4 Convolutional Layers, filters = 128 (All Layers), kernel_size = 2, Conv Layer Dropout(0.2), Output Layer Dropout(0.6)'"
      ],
      "metadata": {
        "id": "vfQQG6qQGbLc"
      },
      "execution_count": null,
      "outputs": []
    },
    {
      "cell_type": "code",
      "source": [
        "# Creating sequential model\n",
        "model1 = Sequential()\n",
        "\n",
        "# First Convolutional Block\n",
        "model1.add(Conv2D(filters = 128, kernel_size = 2, padding = \"same\", activation = \"relu\", input_shape = (64, 64, 3)))\n",
        "model1.add(MaxPooling2D(pool_size = 2))\n",
        "model1.add(Dropout(0.2))\n",
        "\n",
        "# Second Convolutional Block\n",
        "model1.add(Conv2D(filters = 128, kernel_size = 2, padding = \"same\", activation = \"relu\"))\n",
        "model1.add(MaxPooling2D(pool_size = 2))\n",
        "model1.add(Dropout(0.2))\n",
        "\n",
        "# Third Convolutional Block\n",
        "model1.add(Conv2D(filters = 128, kernel_size = 2, padding = \"same\", activation = \"relu\"))\n",
        "model1.add(MaxPooling2D(pool_size = 2))\n",
        "model1.add(Dropout(0.2))\n",
        "\n",
        "# Fourth Convolutional Block\n",
        "model1.add(Conv2D(filters = 128, kernel_size = 2, padding = \"same\", activation = \"relu\"))\n",
        "model1.add(MaxPooling2D(pool_size = 2))\n",
        "model1.add(Dropout(0.2))\n",
        "\n",
        "# Fully Connected Layers\n",
        "model1.add(Flatten())\n",
        "model1.add(Dense(512, activation = \"relu\"))\n",
        "model1.add(Dropout(0.6))\n",
        "\n",
        "# Classifer\n",
        "model1.add(Dense(2, activation = \"softmax\")) # 2 represents output layer neurons \n",
        "\n",
        "model1.summary()"
      ],
      "metadata": {
        "id": "3LV1Ad_b4_LK",
        "colab": {
          "base_uri": "https://localhost:8080/"
        },
        "outputId": "68a1f997-ce7e-4111-d363-b09d739dafe8"
      },
      "execution_count": null,
      "outputs": [
        {
          "output_type": "stream",
          "name": "stdout",
          "text": [
            "Model: \"sequential\"\n",
            "_________________________________________________________________\n",
            " Layer (type)                Output Shape              Param #   \n",
            "=================================================================\n",
            " conv2d (Conv2D)             (None, 64, 64, 128)       1664      \n",
            "                                                                 \n",
            " max_pooling2d (MaxPooling2D  (None, 32, 32, 128)      0         \n",
            " )                                                               \n",
            "                                                                 \n",
            " dropout (Dropout)           (None, 32, 32, 128)       0         \n",
            "                                                                 \n",
            " conv2d_1 (Conv2D)           (None, 32, 32, 128)       65664     \n",
            "                                                                 \n",
            " max_pooling2d_1 (MaxPooling  (None, 16, 16, 128)      0         \n",
            " 2D)                                                             \n",
            "                                                                 \n",
            " dropout_1 (Dropout)         (None, 16, 16, 128)       0         \n",
            "                                                                 \n",
            " conv2d_2 (Conv2D)           (None, 16, 16, 128)       65664     \n",
            "                                                                 \n",
            " max_pooling2d_2 (MaxPooling  (None, 8, 8, 128)        0         \n",
            " 2D)                                                             \n",
            "                                                                 \n",
            " dropout_2 (Dropout)         (None, 8, 8, 128)         0         \n",
            "                                                                 \n",
            " conv2d_3 (Conv2D)           (None, 8, 8, 128)         65664     \n",
            "                                                                 \n",
            " max_pooling2d_3 (MaxPooling  (None, 4, 4, 128)        0         \n",
            " 2D)                                                             \n",
            "                                                                 \n",
            " dropout_3 (Dropout)         (None, 4, 4, 128)         0         \n",
            "                                                                 \n",
            " flatten (Flatten)           (None, 2048)              0         \n",
            "                                                                 \n",
            " dense (Dense)               (None, 512)               1049088   \n",
            "                                                                 \n",
            " dropout_4 (Dropout)         (None, 512)               0         \n",
            "                                                                 \n",
            " dense_1 (Dense)             (None, 2)                 1026      \n",
            "                                                                 \n",
            "=================================================================\n",
            "Total params: 1,248,770\n",
            "Trainable params: 1,248,770\n",
            "Non-trainable params: 0\n",
            "_________________________________________________________________\n"
          ]
        }
      ]
    },
    {
      "cell_type": "markdown",
      "source": [
        "###<b>Cloning Model 1"
      ],
      "metadata": {
        "id": "Zh3DZOtf5lNo"
      }
    },
    {
      "cell_type": "code",
      "source": [
        "model1hsv_description = 'Model 1 w HSV Images'"
      ],
      "metadata": {
        "id": "0JEbq61kIRMY"
      },
      "execution_count": null,
      "outputs": []
    },
    {
      "cell_type": "code",
      "source": [
        "#for hsv testing\n",
        "model1hsv = clone_model(model1)"
      ],
      "metadata": {
        "id": "zvKf91Ar3IV3"
      },
      "execution_count": null,
      "outputs": []
    },
    {
      "cell_type": "code",
      "source": [
        "model1gb_description = 'Model 1 w Gaussian Blurring Images'"
      ],
      "metadata": {
        "id": "5g627aodIRvP"
      },
      "execution_count": null,
      "outputs": []
    },
    {
      "cell_type": "code",
      "source": [
        "#for Gaussian Blurring testing\n",
        "model1gb = clone_model(model1)"
      ],
      "metadata": {
        "id": "s3Ijl8Px5vzA"
      },
      "execution_count": null,
      "outputs": []
    },
    {
      "cell_type": "code",
      "source": [
        "model1mb_description = 'Model 1 w Median Blurring Images'"
      ],
      "metadata": {
        "id": "nCcce7UzISZO"
      },
      "execution_count": null,
      "outputs": []
    },
    {
      "cell_type": "code",
      "source": [
        "#for Median Blurring testing\n",
        "model1mb = clone_model(model1)"
      ],
      "metadata": {
        "id": "U1lwKsvd5von"
      },
      "execution_count": null,
      "outputs": []
    },
    {
      "cell_type": "code",
      "source": [
        "model1idg_description = 'Model 1 w Data Augmentation (Random horizontal and vertical Flipping and Rotation'"
      ],
      "metadata": {
        "id": "yUdOogJ_IT8L"
      },
      "execution_count": null,
      "outputs": []
    },
    {
      "cell_type": "code",
      "source": [
        "#for ImageDataGenerator testing\n",
        "model1idg = clone_model(model1)"
      ],
      "metadata": {
        "id": "Vzm4a_WH5vPD"
      },
      "execution_count": null,
      "outputs": []
    },
    {
      "cell_type": "markdown",
      "metadata": {
        "id": "4Sh0OGP268Qm"
      },
      "source": [
        "###<b> Compiling the models"
      ]
    },
    {
      "cell_type": "code",
      "metadata": {
        "id": "fGGRMByKOMyG"
      },
      "source": [
        "model1.compile(loss = 'binary_crossentropy', optimizer = 'adam', metrics = ['accuracy'])"
      ],
      "execution_count": null,
      "outputs": []
    },
    {
      "cell_type": "markdown",
      "metadata": {
        "id": "7Dt8lFvz6_K6"
      },
      "source": [
        "#####<b> Fit and train our Model"
      ]
    },
    {
      "cell_type": "code",
      "metadata": {
        "id": "FPwUYX3KOM34"
      },
      "source": [
        "callbacks = [EarlyStopping(monitor = 'val_loss', patience = 2),\n",
        "             ModelCheckpoint('.mdl_wts.hdf5', monitor = 'val_loss', save_best_only = True)]"
      ],
      "execution_count": null,
      "outputs": []
    },
    {
      "cell_type": "code",
      "source": [
        "# Fit the model with min batch size as 32 can tune batch size to some factor of 2^power ] \n",
        "history1 = model1.fit(train_images, train_labels, batch_size = 32, callbacks = callbacks, validation_split = 0.2, epochs = 20, verbose = 1)"
      ],
      "metadata": {
        "id": "XysPQsWn5EGq",
        "colab": {
          "base_uri": "https://localhost:8080/"
        },
        "outputId": "8aac6e2f-38b4-4815-9b0c-f0c7047b8def"
      },
      "execution_count": null,
      "outputs": [
        {
          "output_type": "stream",
          "name": "stdout",
          "text": [
            "Epoch 1/20\n",
            "624/624 [==============================] - 14s 18ms/step - loss: 0.3455 - accuracy: 0.8312 - val_loss: 0.1132 - val_accuracy: 0.9864\n",
            "Epoch 2/20\n",
            "624/624 [==============================] - 11s 17ms/step - loss: 0.0921 - accuracy: 0.9704 - val_loss: 0.0726 - val_accuracy: 0.9840\n",
            "Epoch 3/20\n",
            "624/624 [==============================] - 11s 17ms/step - loss: 0.0780 - accuracy: 0.9759 - val_loss: 0.0467 - val_accuracy: 0.9896\n",
            "Epoch 4/20\n",
            "624/624 [==============================] - 11s 17ms/step - loss: 0.0748 - accuracy: 0.9773 - val_loss: 0.0574 - val_accuracy: 0.9866\n",
            "Epoch 5/20\n",
            "624/624 [==============================] - 11s 17ms/step - loss: 0.0708 - accuracy: 0.9774 - val_loss: 0.0484 - val_accuracy: 0.9862\n"
          ]
        }
      ]
    },
    {
      "cell_type": "markdown",
      "metadata": {
        "id": "MizqfIXGEAFQ"
      },
      "source": [
        "###<b> Model 3 - 5 Convolutional Layers, filters = 64/64/64/64/32, kernel_size = 2, Conv Layer Dropout(0.3), Output Layer Dropout(0.4)"
      ]
    },
    {
      "cell_type": "code",
      "source": [
        "backend.clear_session() # Clearing the backend for new model"
      ],
      "metadata": {
        "id": "urBOqfD9EAFQ"
      },
      "execution_count": null,
      "outputs": []
    },
    {
      "cell_type": "markdown",
      "metadata": {
        "id": "rpso5KhIEAFR"
      },
      "source": [
        "###<b> Building the Model"
      ]
    },
    {
      "cell_type": "code",
      "source": [
        "model3_description = 'Model 3 - 5 Convolutional Layers, filters = 64/64/64/64/32, kernel_size = 2, Conv Layer Dropout(0.3), Output Layer Dropout(0.4)'"
      ],
      "metadata": {
        "id": "iw6woijeEAFR"
      },
      "execution_count": null,
      "outputs": []
    },
    {
      "cell_type": "code",
      "metadata": {
        "colab": {
          "base_uri": "https://localhost:8080/"
        },
        "outputId": "7ba9a1a5-6cae-4887-bce8-971a27a8a250",
        "id": "zgNYNGGHEAFR"
      },
      "source": [
        "# Creating sequential model\n",
        "model3 = Sequential()\n",
        "\n",
        "# First Convolutional Block\n",
        "model3.add(Conv2D(filters = 64, kernel_size = 2, padding = \"same\", activation = \"relu\", input_shape = (64, 64, 3)))\n",
        "model3.add(MaxPooling2D(pool_size = 2))\n",
        "model3.add(Dropout(0.3))\n",
        "\n",
        "# Second Convolutional Block\n",
        "model3.add(Conv2D(filters = 64, kernel_size = 2, padding = \"same\", activation = \"relu\"))\n",
        "model3.add(MaxPooling2D(pool_size = 2))\n",
        "model3.add(Dropout(0.3))\n",
        "\n",
        "# Third Convolutional Block\n",
        "model3.add(Conv2D(filters = 64, kernel_size = 2, padding = \"same\", activation = \"relu\"))\n",
        "model3.add(MaxPooling2D(pool_size = 2))\n",
        "model3.add(Dropout(0.3))\n",
        "\n",
        "# Fourth Convolutional Block\n",
        "model3.add(Conv2D(filters = 64, kernel_size = 2, padding = \"same\", activation = \"relu\"))\n",
        "model3.add(MaxPooling2D(pool_size = 2))\n",
        "model3.add(Dropout(0.3))\n",
        "\n",
        "# Fifth Convolutional Block\n",
        "model3.add(Conv2D(filters = 32, kernel_size = 2, padding = \"same\", activation = \"relu\"))\n",
        "model3.add(MaxPooling2D(pool_size = 2))\n",
        "model3.add(Dropout(0.3))\n",
        "\n",
        "# Fully Connected Layers\n",
        "model3.add(Flatten())\n",
        "model3.add(Dense(512, activation = \"relu\"))\n",
        "model3.add(Dropout(0.4))\n",
        "\n",
        "# Classifer\n",
        "model3.add(Dense(2, activation = \"softmax\")) # 2 represents output layer neurons \n",
        "\n",
        "model3.summary()"
      ],
      "execution_count": null,
      "outputs": [
        {
          "output_type": "stream",
          "name": "stdout",
          "text": [
            "Model: \"sequential\"\n",
            "_________________________________________________________________\n",
            " Layer (type)                Output Shape              Param #   \n",
            "=================================================================\n",
            " conv2d (Conv2D)             (None, 64, 64, 64)        832       \n",
            "                                                                 \n",
            " max_pooling2d (MaxPooling2D  (None, 32, 32, 64)       0         \n",
            " )                                                               \n",
            "                                                                 \n",
            " dropout (Dropout)           (None, 32, 32, 64)        0         \n",
            "                                                                 \n",
            " conv2d_1 (Conv2D)           (None, 32, 32, 64)        16448     \n",
            "                                                                 \n",
            " max_pooling2d_1 (MaxPooling  (None, 16, 16, 64)       0         \n",
            " 2D)                                                             \n",
            "                                                                 \n",
            " dropout_1 (Dropout)         (None, 16, 16, 64)        0         \n",
            "                                                                 \n",
            " conv2d_2 (Conv2D)           (None, 16, 16, 64)        16448     \n",
            "                                                                 \n",
            " max_pooling2d_2 (MaxPooling  (None, 8, 8, 64)         0         \n",
            " 2D)                                                             \n",
            "                                                                 \n",
            " dropout_2 (Dropout)         (None, 8, 8, 64)          0         \n",
            "                                                                 \n",
            " conv2d_3 (Conv2D)           (None, 8, 8, 64)          16448     \n",
            "                                                                 \n",
            " max_pooling2d_3 (MaxPooling  (None, 4, 4, 64)         0         \n",
            " 2D)                                                             \n",
            "                                                                 \n",
            " dropout_3 (Dropout)         (None, 4, 4, 64)          0         \n",
            "                                                                 \n",
            " conv2d_4 (Conv2D)           (None, 4, 4, 32)          8224      \n",
            "                                                                 \n",
            " max_pooling2d_4 (MaxPooling  (None, 2, 2, 32)         0         \n",
            " 2D)                                                             \n",
            "                                                                 \n",
            " dropout_4 (Dropout)         (None, 2, 2, 32)          0         \n",
            "                                                                 \n",
            " flatten (Flatten)           (None, 128)               0         \n",
            "                                                                 \n",
            " dense (Dense)               (None, 512)               66048     \n",
            "                                                                 \n",
            " dropout_5 (Dropout)         (None, 512)               0         \n",
            "                                                                 \n",
            " dense_1 (Dense)             (None, 2)                 1026      \n",
            "                                                                 \n",
            "=================================================================\n",
            "Total params: 125,474\n",
            "Trainable params: 125,474\n",
            "Non-trainable params: 0\n",
            "_________________________________________________________________\n"
          ]
        }
      ]
    },
    {
      "cell_type": "markdown",
      "source": [
        "###<b>Cloning Model 3"
      ],
      "metadata": {
        "id": "MG7ZRPOjPvGY"
      }
    },
    {
      "cell_type": "code",
      "source": [
        "model3gb_description = 'Model 3 w Gaussian Blurring Images'"
      ],
      "metadata": {
        "id": "FZpOPeI3PvGb"
      },
      "execution_count": null,
      "outputs": []
    },
    {
      "cell_type": "code",
      "source": [
        "#for Gaussian Blurring testing\n",
        "model3gb = clone_model(model3)"
      ],
      "metadata": {
        "id": "i7atGDr1PvGc"
      },
      "execution_count": null,
      "outputs": []
    },
    {
      "cell_type": "markdown",
      "metadata": {
        "id": "XQYotkNRK1NL"
      },
      "source": [
        "###<b> Compiling the models"
      ]
    },
    {
      "cell_type": "code",
      "metadata": {
        "id": "gGjdikxsK1NM"
      },
      "source": [
        "model3.compile(loss = 'binary_crossentropy', optimizer = 'adam', metrics = ['accuracy'])"
      ],
      "execution_count": null,
      "outputs": []
    },
    {
      "cell_type": "code",
      "source": [
        "model3gb.compile(loss = 'binary_crossentropy', optimizer = 'adam', metrics = ['accuracy'])"
      ],
      "metadata": {
        "id": "pYKWlLW-K1NN"
      },
      "execution_count": null,
      "outputs": []
    },
    {
      "cell_type": "markdown",
      "metadata": {
        "id": "8BYkL0DMK1NN"
      },
      "source": [
        "#####<b> Fit and train our Model"
      ]
    },
    {
      "cell_type": "code",
      "metadata": {
        "id": "tJag9K6XK1NN"
      },
      "source": [
        "callbacks = [EarlyStopping(monitor = 'val_loss', patience = 2),\n",
        "             ModelCheckpoint('.mdl_wts.hdf5', monitor = 'val_loss', save_best_only = True)]"
      ],
      "execution_count": null,
      "outputs": []
    },
    {
      "cell_type": "markdown",
      "metadata": {
        "id": "y79IhFAnK1NN"
      },
      "source": [
        "<b> Fit and train our Model"
      ]
    },
    {
      "cell_type": "code",
      "source": [
        "# Fit the model with min batch size as 32 can tune batch size to some factor of 2^power ] \n",
        "history3 = model3.fit(train_images, train_labels, batch_size = 32, callbacks = callbacks, validation_split = 0.2, epochs = 20, verbose = 1)"
      ],
      "metadata": {
        "colab": {
          "base_uri": "https://localhost:8080/"
        },
        "outputId": "38a634c5-2b3d-4012-caa6-c3d1c045a715",
        "id": "wd_eK_t4K1NN"
      },
      "execution_count": null,
      "outputs": [
        {
          "output_type": "stream",
          "name": "stdout",
          "text": [
            "Epoch 1/20\n",
            "624/624 [==============================] - 8s 11ms/step - loss: 0.3255 - accuracy: 0.8451 - val_loss: 0.0905 - val_accuracy: 0.9846\n",
            "Epoch 2/20\n",
            "624/624 [==============================] - 6s 10ms/step - loss: 0.1004 - accuracy: 0.9690 - val_loss: 0.0548 - val_accuracy: 0.9852\n",
            "Epoch 3/20\n",
            "624/624 [==============================] - 7s 11ms/step - loss: 0.0822 - accuracy: 0.9744 - val_loss: 0.0546 - val_accuracy: 0.9854\n",
            "Epoch 4/20\n",
            "624/624 [==============================] - 6s 10ms/step - loss: 0.0826 - accuracy: 0.9741 - val_loss: 0.0397 - val_accuracy: 0.9860\n",
            "Epoch 5/20\n",
            "624/624 [==============================] - 6s 10ms/step - loss: 0.0731 - accuracy: 0.9768 - val_loss: 0.0429 - val_accuracy: 0.9860\n",
            "Epoch 6/20\n",
            "624/624 [==============================] - 6s 10ms/step - loss: 0.0739 - accuracy: 0.9769 - val_loss: 0.0611 - val_accuracy: 0.9806\n"
          ]
        }
      ]
    },
    {
      "cell_type": "markdown",
      "source": [
        "#####<b> Fit and train our Model"
      ],
      "metadata": {
        "id": "uIbsz5mvK1NP"
      }
    },
    {
      "cell_type": "code",
      "source": [
        "backend.clear_session()\n",
        "\n",
        "# Fixing the seed for random number generators so that we can ensure we receive the same output everytime\n",
        "np.random.seed(42)\n",
        "\n",
        "import random\n",
        "\n",
        "random.seed(42)\n",
        "\n",
        "tf.random.set_seed(42)"
      ],
      "metadata": {
        "id": "xnGRrUIvK1NP"
      },
      "execution_count": null,
      "outputs": []
    },
    {
      "cell_type": "markdown",
      "metadata": {
        "id": "iQqYqq8JK1NP"
      },
      "source": [
        "<b> Using Callbacks "
      ]
    },
    {
      "cell_type": "code",
      "source": [
        "callbacks = [EarlyStopping(monitor = 'val_loss', patience = 2),\n",
        "             ModelCheckpoint('.mdl_wts.hdf5', monitor = 'val_loss', save_best_only = True)]"
      ],
      "metadata": {
        "id": "ss26svvLK1NP"
      },
      "execution_count": null,
      "outputs": []
    },
    {
      "cell_type": "markdown",
      "source": [
        "<b> Fit and train our Model"
      ],
      "metadata": {
        "id": "FC6KbP_jK1NP"
      }
    },
    {
      "cell_type": "code",
      "source": [
        "# Fit the model with min batch size as 32 can tune batch size to some factor of 2^power ] \n",
        "history3gb = model3gb.fit(gb_train_images, train_labels, batch_size = 32, callbacks = callbacks, validation_split = 0.2, epochs = 20, verbose = 1)"
      ],
      "metadata": {
        "colab": {
          "base_uri": "https://localhost:8080/"
        },
        "outputId": "82b84738-f926-475c-e4ce-c78acfca4eab",
        "id": "nmrihzBKK1NQ"
      },
      "execution_count": null,
      "outputs": [
        {
          "output_type": "stream",
          "name": "stdout",
          "text": [
            "Epoch 1/20\n",
            "624/624 [==============================] - 7s 10ms/step - loss: 0.3245 - accuracy: 0.8485 - val_loss: 0.0984 - val_accuracy: 0.9856\n",
            "Epoch 2/20\n",
            "624/624 [==============================] - 6s 10ms/step - loss: 0.1058 - accuracy: 0.9645 - val_loss: 0.0534 - val_accuracy: 0.9884\n",
            "Epoch 3/20\n",
            "624/624 [==============================] - 6s 10ms/step - loss: 0.0872 - accuracy: 0.9712 - val_loss: 0.0623 - val_accuracy: 0.9802\n",
            "Epoch 4/20\n",
            "624/624 [==============================] - 6s 10ms/step - loss: 0.0836 - accuracy: 0.9727 - val_loss: 0.0354 - val_accuracy: 0.9876\n",
            "Epoch 5/20\n",
            "624/624 [==============================] - 6s 10ms/step - loss: 0.0824 - accuracy: 0.9732 - val_loss: 0.0450 - val_accuracy: 0.9850\n",
            "Epoch 6/20\n",
            "624/624 [==============================] - 6s 10ms/step - loss: 0.0793 - accuracy: 0.9743 - val_loss: 0.0351 - val_accuracy: 0.9874\n",
            "Epoch 7/20\n",
            "624/624 [==============================] - 6s 10ms/step - loss: 0.0787 - accuracy: 0.9747 - val_loss: 0.0761 - val_accuracy: 0.9748\n",
            "Epoch 8/20\n",
            "624/624 [==============================] - 6s 10ms/step - loss: 0.0788 - accuracy: 0.9746 - val_loss: 0.0252 - val_accuracy: 0.9910\n",
            "Epoch 9/20\n",
            "624/624 [==============================] - 6s 10ms/step - loss: 0.0736 - accuracy: 0.9756 - val_loss: 0.0477 - val_accuracy: 0.9824\n",
            "Epoch 10/20\n",
            "624/624 [==============================] - 6s 10ms/step - loss: 0.0716 - accuracy: 0.9765 - val_loss: 0.0281 - val_accuracy: 0.9894\n"
          ]
        }
      ]
    },
    {
      "cell_type": "markdown",
      "metadata": {
        "id": "4aa24FlojvK8"
      },
      "source": [
        "###<b> Model Performance Comparison: "
      ]
    },
    {
      "cell_type": "markdown",
      "source": [
        "####<b>Defining Functions and Creating Lists"
      ],
      "metadata": {
        "id": "Ahb6tvsDiDbZ"
      }
    },
    {
      "cell_type": "code",
      "source": [
        "histories = [history1, history3gb]"
      ],
      "metadata": {
        "id": "fNaYjEKsABPd"
      },
      "execution_count": null,
      "outputs": []
    },
    {
      "cell_type": "code",
      "source": [
        "models = [model1, model3gb]"
      ],
      "metadata": {
        "id": "7zke_edGAA6v"
      },
      "execution_count": null,
      "outputs": []
    },
    {
      "cell_type": "code",
      "source": [
        "model_shorthand = ['model1', 'model3gb']"
      ],
      "metadata": {
        "id": "TTClV_xH2lCk"
      },
      "execution_count": null,
      "outputs": []
    },
    {
      "cell_type": "code",
      "source": [
        "model_descriptions = [model1_description, model3gb_description]"
      ],
      "metadata": {
        "id": "no7vJHIODR93"
      },
      "execution_count": null,
      "outputs": []
    },
    {
      "cell_type": "code",
      "source": [
        "#Using the appropriately sized test images for each model\n",
        "test_image_list = [test_images, gb_test_images]"
      ],
      "metadata": {
        "id": "rj2bN51fVJxy"
      },
      "execution_count": null,
      "outputs": []
    },
    {
      "cell_type": "code",
      "source": [
        "# Creating a function to output Test Accuracy by Model\n",
        "def model_evaluation(model_name, test_image_set):\n",
        "    accuracy = model_name.evaluate(test_image_set, test_labels, verbose = 1)\n",
        "    print('\\n', 'Test_Accuracy:-', accuracy[1])"
      ],
      "metadata": {
        "id": "UTcY37GC_1Kh"
      },
      "execution_count": null,
      "outputs": []
    },
    {
      "cell_type": "code",
      "source": [
        "# Creating a function to output Test Accuracy by Model for Comparison Spreadsheet\n",
        "def model_accuracy(model_description, model_name, test_image_set):\n",
        "    accuracy = model_name.evaluate(test_image_set, test_labels, verbose = 0)\n",
        "    print(model_description + ' | ' + str(accuracy[1]))"
      ],
      "metadata": {
        "id": "cQr1xuYoho1s"
      },
      "execution_count": null,
      "outputs": []
    },
    {
      "cell_type": "code",
      "source": [
        "# Creating a function to output Test Accuracy (Only) by Model for Comparison Spreadsheet\n",
        "def accuracy_only(model_name, test_image_set):\n",
        "    accuracy = model_name.evaluate(test_image_set, test_labels, verbose = 0)\n",
        "    print(accuracy[1])"
      ],
      "metadata": {
        "id": "rIn-OavqyvGD"
      },
      "execution_count": null,
      "outputs": []
    },
    {
      "cell_type": "code",
      "source": [
        "# Creating a function to output Classification Report and Confusion Matrix by Model\n",
        "from sklearn.metrics import classification_report\n",
        "\n",
        "from sklearn.metrics import confusion_matrix\n",
        "def ClassReport_ConfMatrix(model_name, test_image_set):\n",
        "  pred = model_name.predict(test_image_set)\n",
        "\n",
        "  pred = np.argmax(pred, axis = 1) \n",
        "\n",
        "  y_true = np.argmax(test_labels, axis = 1)\n",
        "\n",
        "  # Printing the classification report\n",
        "  print(classification_report(y_true, pred))\n",
        "\n",
        "  # Plotting the heatmap using confusion matrix\n",
        "\n",
        "  cm = confusion_matrix(y_true, pred)\n",
        "\n",
        "  plt.figure(figsize = (8, 5))\n",
        "\n",
        "  sns.heatmap(cm, annot = True,  fmt = '.0f', xticklabels = ['Uninfected', 'Parasitized'], yticklabels = ['Uninfected', 'Parasitized'])\n",
        "\n",
        "  plt.ylabel('Actual')\n",
        "\n",
        "  plt.xlabel('Predicted')\n",
        "\n",
        "  plt.show()"
      ],
      "metadata": {
        "id": "_8O46QGs_5-k"
      },
      "execution_count": null,
      "outputs": []
    },
    {
      "cell_type": "code",
      "source": [
        "def perf_measure(model_name, images):\n",
        "  TP = 0\n",
        "  FP = 0\n",
        "  TN = 0\n",
        "  FN = 0\n",
        "  pred = model_name.predict(images)\n",
        "  pred = np.argmax(pred, axis = 1) \n",
        "  y_true = np.argmax(test_labels, axis = 1)\n",
        "  for i in range(len(pred)): \n",
        "    if y_true[i]==pred[i]==1:\n",
        "      TP += 1\n",
        "    if pred[i]==1 and y_true[i]!=pred[i]:\n",
        "      FP += 1\n",
        "    if y_true[i]==pred[i]==0:\n",
        "      TN += 1\n",
        "    if pred[i]==0 and y_true[i]!=pred[i]:\n",
        "      FN += 1\n",
        "  return(TP, FP, TN, FN)"
      ],
      "metadata": {
        "id": "rAx8tUXmkZqt"
      },
      "execution_count": null,
      "outputs": []
    },
    {
      "cell_type": "code",
      "source": [
        "import time\n",
        "def runtime(model_name, images):\n",
        "  pred_time_list=[]\n",
        "  for i in range(10):\n",
        "      start = time.process_time() \n",
        "      result = model_name.predict(images)\n",
        "      end = time.process_time()\n",
        "      pred_time_list.append(end-start)\n",
        "  time_per_1k_images = sum(pred_time_list)/len(images)*1000\n",
        "  return(time_per_1k_images)"
      ],
      "metadata": {
        "id": "YBKCb5gOz445"
      },
      "execution_count": null,
      "outputs": []
    },
    {
      "cell_type": "code",
      "source": [
        "# Function to plot train and validation accuracy \n",
        "def plot_accuracy(history,description):\n",
        "\n",
        "    N = len(history.history[\"accuracy\"])\n",
        "\n",
        "    plt.figure(figsize = (7, 7))\n",
        "\n",
        "    plt.plot(np.arange(0, N), history.history[\"accuracy\"], label = \"train_accuracy\", ls = '--')\n",
        "\n",
        "    plt.plot(np.arange(0, N), history.history[\"val_accuracy\"], label = \"val_accuracy\", ls = '--')\n",
        "\n",
        "    plt.title(description)\n",
        "    \n",
        "    plt.xlabel(\"Epochs\")\n",
        "    \n",
        "    plt.ylabel(\"Accuracy\")\n",
        "    \n",
        "    plt.legend(loc=\"upper left\")"
      ],
      "metadata": {
        "id": "8Lt8VvBZzBtt"
      },
      "execution_count": null,
      "outputs": []
    },
    {
      "cell_type": "markdown",
      "source": [
        "####<b>Model Comparisons"
      ],
      "metadata": {
        "id": "aXjFuuu0iL1F"
      }
    },
    {
      "cell_type": "code",
      "source": [
        "#Show Test Accuracy for All Models\n",
        "for (m, d, i) in zip(models, model_descriptions, test_image_list):\n",
        "  print(d)\n",
        "  print()\n",
        "  model_evaluation(m,i)\n",
        "  print('\\n'+'*'*80+'\\n')"
      ],
      "metadata": {
        "id": "0u3NhAk1AMjP",
        "colab": {
          "base_uri": "https://localhost:8080/"
        },
        "outputId": "128bd47a-586c-408b-82e7-23195bc70417"
      },
      "execution_count": null,
      "outputs": [
        {
          "output_type": "stream",
          "name": "stdout",
          "text": [
            "Model 1 - 4 Convolutional Layers, filters = 128 (All Layers), kernel_size = 2, Conv Layer Dropout(0.2), Output Layer Dropout(0.6)\n",
            "\n",
            "82/82 [==============================] - 1s 8ms/step - loss: 0.0518 - accuracy: 0.9850\n",
            "\n",
            " Test_Accuracy:- 0.9850000143051147\n",
            "\n",
            "********************************************************************************\n",
            "\n",
            "Model 3 w Gaussian Blurring Images\n",
            "\n",
            "82/82 [==============================] - 1s 5ms/step - loss: 0.0495 - accuracy: 0.9850\n",
            "\n",
            " Test_Accuracy:- 0.9850000143051147\n",
            "\n",
            "********************************************************************************\n",
            "\n"
          ]
        }
      ]
    },
    {
      "cell_type": "code",
      "source": [
        "#Show Classification Reports and Confusion Matrixes for All Models\n",
        "for (m, d, i) in zip(models, model_descriptions, test_image_list):\n",
        "  print(d)\n",
        "  print()\n",
        "  ClassReport_ConfMatrix(m, i)\n",
        "  print('\\n'+'*'*80+'\\n')"
      ],
      "metadata": {
        "id": "Hrsl5WqVASpt",
        "colab": {
          "base_uri": "https://localhost:8080/",
          "height": 1000
        },
        "outputId": "53ccacde-f310-477b-cf2a-4098c66b8e23"
      },
      "execution_count": null,
      "outputs": [
        {
          "output_type": "stream",
          "name": "stdout",
          "text": [
            "Model 1 - 4 Convolutional Layers, filters = 128 (All Layers), kernel_size = 2, Conv Layer Dropout(0.2), Output Layer Dropout(0.6)\n",
            "\n",
            "82/82 [==============================] - 1s 5ms/step\n",
            "              precision    recall  f1-score   support\n",
            "\n",
            "           0       0.98      0.99      0.99      1300\n",
            "           1       0.99      0.98      0.98      1300\n",
            "\n",
            "    accuracy                           0.98      2600\n",
            "   macro avg       0.99      0.99      0.98      2600\n",
            "weighted avg       0.99      0.98      0.98      2600\n",
            "\n"
          ]
        },
        {
          "output_type": "display_data",
          "data": {
            "text/plain": [
              "<Figure size 576x360 with 2 Axes>"
            ],
            "image/png": "[encoded data removed]"
          },
          "metadata": {
            "needs_background": "light"
          }
        },
        {
          "output_type": "stream",
          "name": "stdout",
          "text": [
            "\n",
            "********************************************************************************\n",
            "\n",
            "Model 3 w Gaussian Blurring Images\n",
            "\n",
            "82/82 [==============================] - 0s 3ms/step\n",
            "              precision    recall  f1-score   support\n",
            "\n",
            "           0       0.98      0.99      0.99      1300\n",
            "           1       0.99      0.98      0.98      1300\n",
            "\n",
            "    accuracy                           0.98      2600\n",
            "   macro avg       0.99      0.98      0.98      2600\n",
            "weighted avg       0.99      0.98      0.98      2600\n",
            "\n"
          ]
        },
        {
          "output_type": "display_data",
          "data": {
            "text/plain": [
              "<Figure size 576x360 with 2 Axes>"
            ],
            "image/png": "[encoded data removed]"
          },
          "metadata": {
            "needs_background": "light"
          }
        },
        {
          "output_type": "stream",
          "name": "stdout",
          "text": [
            "\n",
            "********************************************************************************\n",
            "\n"
          ]
        }
      ]
    },
    {
      "cell_type": "code",
      "source": [
        "#Show Accuracy by Epoch for All Models\n",
        "for (h,d) in zip(histories,model_descriptions):\n",
        "  plot_accuracy(h,d)"
      ],
      "metadata": {
        "id": "mrxEpizeCvUr",
        "colab": {
          "base_uri": "https://localhost:8080/",
          "height": 899
        },
        "outputId": "112ba0bc-3116-4eba-b63b-1516c82f9301"
      },
      "execution_count": null,
      "outputs": [
        {
          "output_type": "display_data",
          "data": {
            "text/plain": [
              "<Figure size 504x504 with 1 Axes>"
            ],
            "image/png": "[encoded data removed]"
          },
          "metadata": {
            "needs_background": "light"
          }
        },
        {
          "output_type": "display_data",
          "data": {
            "text/plain": [
              "<Figure size 504x504 with 1 Axes>"
            ],
            "image/png": "[encoded data removed]"
          },
          "metadata": {
            "needs_background": "light"
          }
        }
      ]
    },
    {
      "cell_type": "code",
      "source": [
        "#Show Accuracy by Description for All Models\n",
        "for (d,m,i) in zip(model_shorthand, models, test_image_list):\n",
        "  model_accuracy(d,m,i)"
      ],
      "metadata": {
        "colab": {
          "base_uri": "https://localhost:8080/"
        },
        "id": "L0nfo7GLiZdJ",
        "outputId": "2bd12bbd-30a8-4de6-870d-9a3069818a52"
      },
      "execution_count": null,
      "outputs": [
        {
          "output_type": "stream",
          "name": "stdout",
          "text": [
            "model1 | 0.9850000143051147\n",
            "model3gb | 0.9850000143051147\n"
          ]
        }
      ]
    },
    {
      "cell_type": "markdown",
      "source": [
        "####<b>For Spreadsheet Comparison"
      ],
      "metadata": {
        "id": "C2J_nDcUBPzq"
      }
    },
    {
      "cell_type": "code",
      "source": [
        "model_descriptions"
      ],
      "metadata": {
        "id": "1SODXwU61r7Y",
        "colab": {
          "base_uri": "https://localhost:8080/"
        },
        "outputId": "6f419ff1-217d-4bf1-9656-db96e5ec3270"
      },
      "execution_count": null,
      "outputs": [
        {
          "output_type": "execute_result",
          "data": {
            "text/plain": [
              "['Model 1 - 4 Convolutional Layers, filters = 128 (All Layers), kernel_size = 2, Conv Layer Dropout(0.2), Output Layer Dropout(0.6)',\n",
              " 'Model 3 w Gaussian Blurring Images']"
            ]
          },
          "metadata": {},
          "execution_count": 55
        }
      ]
    },
    {
      "cell_type": "code",
      "source": [
        "# For Comparison Spreadsheet (TP, FP, TN, FN)\n",
        "for (d, m, i) in zip(model_shorthand, models, test_image_list):\n",
        "    print(d + ' | ' + str(perf_measure(m, i)))"
      ],
      "metadata": {
        "colab": {
          "base_uri": "https://localhost:8080/"
        },
        "id": "oXROdlJXs81M",
        "outputId": "476af754-3971-4469-f0f4-c5659b9c522a"
      },
      "execution_count": null,
      "outputs": [
        {
          "output_type": "stream",
          "name": "stdout",
          "text": [
            "82/82 [==============================] - 0s 5ms/step\n",
            "model1 | (1276, 15, 1285, 24)\n",
            "82/82 [==============================] - 0s 3ms/step\n",
            "model3gb | (1273, 12, 1288, 27)\n"
          ]
        }
      ]
    },
    {
      "cell_type": "code",
      "source": [
        "for (m, i) in zip(models, test_image_list):\n",
        "  accuracy_only(m, i)"
      ],
      "metadata": {
        "colab": {
          "base_uri": "https://localhost:8080/"
        },
        "id": "vahX6ZCazAcA",
        "outputId": "d1df81d4-63f5-44e2-8408-fc6245fbc184"
      },
      "execution_count": null,
      "outputs": [
        {
          "output_type": "stream",
          "name": "stdout",
          "text": [
            "0.9850000143051147\n",
            "0.9850000143051147\n"
          ]
        }
      ]
    },
    {
      "cell_type": "code",
      "source": [
        "for (s, m, i) in zip(model_shorthand, models, test_image_list):\n",
        "  print(s + ' | '+str(runtime(m, i)))"
      ],
      "metadata": {
        "id": "r2_0z-6d0cS9",
        "colab": {
          "base_uri": "https://localhost:8080/"
        },
        "outputId": "7e542e53-1c93-47c4-88c9-7192f65d5e82"
      },
      "execution_count": null,
      "outputs": [
        {
          "output_type": "stream",
          "name": "stdout",
          "text": [
            "82/82 [==============================] - 0s 5ms/step\n",
            "82/82 [==============================] - 0s 5ms/step\n",
            "82/82 [==============================] - 0s 5ms/step\n",
            "82/82 [==============================] - 0s 5ms/step\n",
            "82/82 [==============================] - 0s 5ms/step\n",
            "82/82 [==============================] - 0s 5ms/step\n",
            "82/82 [==============================] - 0s 5ms/step\n",
            "82/82 [==============================] - 0s 5ms/step\n",
            "82/82 [==============================] - 0s 5ms/step\n",
            "82/82 [==============================] - 0s 5ms/step\n",
            "model1 | 2.49516147500001\n",
            "82/82 [==============================] - 0s 3ms/step\n",
            "82/82 [==============================] - 0s 3ms/step\n",
            "82/82 [==============================] - 0s 3ms/step\n",
            "82/82 [==============================] - 0s 3ms/step\n",
            "82/82 [==============================] - 0s 3ms/step\n",
            "82/82 [==============================] - 0s 3ms/step\n",
            "82/82 [==============================] - 0s 3ms/step\n",
            "82/82 [==============================] - 0s 3ms/step\n",
            "82/82 [==============================] - 0s 3ms/step\n",
            "82/82 [==============================] - 0s 3ms/step\n",
            "model3gb | 1.8271788784615457\n"
          ]
        }
      ]
    }
  ]
}